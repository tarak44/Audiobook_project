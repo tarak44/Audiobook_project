{
 "cells": [
  {
   "cell_type": "code",
   "execution_count": 25,
   "id": "c465757c-6f93-4c9c-a433-86a15fa28936",
   "metadata": {},
   "outputs": [
    {
     "name": "stdout",
     "output_type": "stream",
     "text": [
      "Epoch 1/50\n",
      "36/36 - 1s - loss: 0.4643 - accuracy: 0.8268 - val_loss: 0.2766 - val_accuracy: 0.9060 - 1s/epoch - 40ms/step\n",
      "Epoch 2/50\n",
      "36/36 - 0s - loss: 0.3142 - accuracy: 0.8846 - val_loss: 0.2583 - val_accuracy: 0.9150 - 200ms/epoch - 6ms/step\n",
      "Epoch 3/50\n",
      "36/36 - 0s - loss: 0.2783 - accuracy: 0.8949 - val_loss: 0.2511 - val_accuracy: 0.9105 - 213ms/epoch - 6ms/step\n",
      "Epoch 4/50\n",
      "36/36 - 0s - loss: 0.2699 - accuracy: 0.8969 - val_loss: 0.2361 - val_accuracy: 0.9128 - 269ms/epoch - 7ms/step\n",
      "Epoch 5/50\n",
      "36/36 - 0s - loss: 0.2544 - accuracy: 0.9039 - val_loss: 0.2517 - val_accuracy: 0.9105 - 276ms/epoch - 8ms/step\n",
      "Epoch 6/50\n",
      "36/36 - 0s - loss: 0.2503 - accuracy: 0.9064 - val_loss: 0.2539 - val_accuracy: 0.9150 - 256ms/epoch - 7ms/step\n",
      "Epoch 7/50\n",
      "36/36 - 0s - loss: 0.2507 - accuracy: 0.9070 - val_loss: 0.2380 - val_accuracy: 0.9195 - 290ms/epoch - 8ms/step\n"
     ]
    },
    {
     "data": {
      "text/plain": [
       "<keras.callbacks.History at 0x259a0afc5e0>"
      ]
     },
     "execution_count": 25,
     "metadata": {},
     "output_type": "execute_result"
    }
   ],
   "source": [
    "import numpy as np\n",
    "import tensorflow as tf\n",
    "from sklearn import preprocessing\n",
    "\n",
    "# Load dataset\n",
    "raw_csv_data = np.loadtxt('Audiobooks_data.csv', delimiter=',')\n",
    "\n",
    "# Inputs = all columns except first (ID) and last (target)\n",
    "unscaled_inputs_all = raw_csv_data[:, 1:-1]\n",
    "targets_all = raw_csv_data[:, -1]\n",
    "\n",
    "# Balance the dataset\n",
    "num_one_targets = int(np.sum(targets_all))\n",
    "zero_targets_counter = 0\n",
    "indices_to_remove = []\n",
    "for i in range(targets_all.shape[0]):\n",
    "    if targets_all[i] == 0:\n",
    "        zero_targets_counter += 1\n",
    "    if zero_targets_counter > num_one_targets:\n",
    "        indices_to_remove.append(i)\n",
    "\n",
    "unscaled_inputs = np.delete(unscaled_inputs_all, indices_to_remove, axis=0)\n",
    "unscaled_targets = np.delete(targets_all, indices_to_remove, axis=0)\n",
    "\n",
    "# Scale inputs only\n",
    "scaled_inputs = preprocessing.scale(unscaled_inputs)\n",
    "scaled_targets = unscaled_targets  # keep as 0/1\n",
    "\n",
    "# Shuffle\n",
    "shuffled_indices = np.arange(scaled_inputs.shape[0])\n",
    "np.random.shuffle(shuffled_indices)\n",
    "shuffled_inputs = scaled_inputs[shuffled_indices]\n",
    "shuffled_targets = scaled_targets[shuffled_indices]\n",
    "\n",
    "# Train/Val/Test split\n",
    "samples_count = shuffled_inputs.shape[0]\n",
    "train_samples_count = int(0.8 * samples_count)\n",
    "validation_samples_count = int(0.1 * samples_count)\n",
    "test_samples_count = samples_count - train_samples_count - validation_samples_count\n",
    "\n",
    "train_inputs = shuffled_inputs[:train_samples_count]\n",
    "train_targets = shuffled_targets[:train_samples_count]\n",
    "validation_inputs = shuffled_inputs[train_samples_count:train_samples_count+validation_samples_count]\n",
    "validation_targets = shuffled_targets[train_samples_count:train_samples_count+validation_samples_count]\n",
    "test_inputs = shuffled_inputs[train_samples_count+validation_samples_count:]\n",
    "test_targets = shuffled_targets[train_samples_count+validation_samples_count:]\n",
    "\n",
    "# Save\n",
    "np.savez('Audiobooks_train', inputs=train_inputs, targets=train_targets)\n",
    "np.savez('Audiobooks_validation', inputs=validation_inputs, targets=validation_targets)\n",
    "np.savez('Audiobooks_test', inputs=test_inputs, targets=test_targets)\n",
    "\n",
    "# Load properly\n",
    "npz = np.load('Audiobooks_train.npz')\n",
    "train_inputs1, train_targets1 = npz['inputs'].astype(float), npz['targets'].astype(int)\n",
    "\n",
    "npz = np.load('Audiobooks_validation.npz')\n",
    "validation_inputs1, validation_targets1 = npz['inputs'].astype(float), npz['targets'].astype(int)\n",
    "\n",
    "npz = np.load('Audiobooks_test.npz')\n",
    "test_inputs1, test_targets1 = npz['inputs'].astype(float), npz['targets'].astype(int)\n",
    "\n",
    "# Model\n",
    "input_size = train_inputs1.shape[1]\n",
    "output_size = 2\n",
    "hidden_layer_size = 100\n",
    "early_callback=tf.keras.callbacks.EarlyStopping(patience=3)\n",
    "\n",
    "model = tf.keras.Sequential([\n",
    "    tf.keras.layers.Dense(hidden_layer_size, activation='relu', input_shape=(input_size,)),\n",
    "    tf.keras.layers.Dense(hidden_layer_size, activation='relu'),\n",
    "    tf.keras.layers.Dense(hidden_layer_size, activation='relu'),\n",
    "    tf.keras.layers.Dense(output_size, activation='softmax'),\n",
    "])\n",
    "\n",
    "model.compile(optimizer='adam', loss='sparse_categorical_crossentropy', metrics=['accuracy'])\n",
    "\n",
    "# Train\n",
    "model.fit(train_inputs1, train_targets1, \n",
    "          validation_data=(validation_inputs1, validation_targets1),\n",
    "          batch_size=100, epochs=50,callbacks=[early_callback],verbose=2)\n"
   ]
  },
  {
   "cell_type": "code",
   "execution_count": 26,
   "id": "e8c2523c-5721-4099-8138-47248e4a26b3",
   "metadata": {},
   "outputs": [
    {
     "name": "stdout",
     "output_type": "stream",
     "text": [
      "14/14 [==============================] - 0s 4ms/step - loss: 0.2525 - accuracy: 0.8973\n"
     ]
    }
   ],
   "source": [
    "test_loss,test_accuracy=model.evaluate(test_inputs1,test_targets1)"
   ]
  },
  {
   "cell_type": "code",
   "execution_count": null,
   "id": "c3d2805d-cef5-434f-b0d6-4e4f8261c229",
   "metadata": {},
   "outputs": [],
   "source": []
  }
 ],
 "metadata": {
  "kernelspec": {
   "display_name": "Python 3 (ipykernel)",
   "language": "python",
   "name": "python3"
  },
  "language_info": {
   "codemirror_mode": {
    "name": "ipython",
    "version": 3
   },
   "file_extension": ".py",
   "mimetype": "text/x-python",
   "name": "python",
   "nbconvert_exporter": "python",
   "pygments_lexer": "ipython3",
   "version": "3.10.13"
  }
 },
 "nbformat": 4,
 "nbformat_minor": 5
}
